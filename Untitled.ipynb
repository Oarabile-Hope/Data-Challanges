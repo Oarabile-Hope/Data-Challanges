{
 "cells": [
  {
   "cell_type": "code",
   "execution_count": 5,
   "id": "0a699408-b237-4e38-9ee0-4a91816b0e22",
   "metadata": {},
   "outputs": [
    {
     "name": "stdout",
     "output_type": "stream",
     "text": [
      "Defaulting to user installation because normal site-packages is not writeable\n",
      "Requirement already satisfied: numpy in /usr/local/lib/python3.8/dist-packages (1.21.2)\n",
      "\u001b[33mWARNING: You are using pip version 21.2.4; however, version 22.2.2 is available.\n",
      "You should consider upgrading via the '/usr/bin/python3 -m pip install --upgrade pip' command.\u001b[0m\n",
      "Defaulting to user installation because normal site-packages is not writeable\n",
      "Requirement already satisfied: matplotlib in /usr/local/lib/python3.8/dist-packages (3.4.3)\n",
      "Requirement already satisfied: pyparsing>=2.2.1 in /usr/local/lib/python3.8/dist-packages (from matplotlib) (2.4.7)\n",
      "Requirement already satisfied: cycler>=0.10 in /usr/local/lib/python3.8/dist-packages (from matplotlib) (0.10.0)\n",
      "Requirement already satisfied: python-dateutil>=2.7 in /usr/local/lib/python3.8/dist-packages (from matplotlib) (2.8.2)\n",
      "Requirement already satisfied: pillow>=6.2.0 in /usr/local/lib/python3.8/dist-packages (from matplotlib) (8.3.2)\n",
      "Requirement already satisfied: kiwisolver>=1.0.1 in /usr/local/lib/python3.8/dist-packages (from matplotlib) (1.3.2)\n",
      "Requirement already satisfied: numpy>=1.16 in /usr/local/lib/python3.8/dist-packages (from matplotlib) (1.21.2)\n",
      "Requirement already satisfied: six in /usr/lib/python3/dist-packages (from cycler>=0.10->matplotlib) (1.14.0)\n",
      "\u001b[33mWARNING: You are using pip version 21.2.4; however, version 22.2.2 is available.\n",
      "You should consider upgrading via the '/usr/bin/python3 -m pip install --upgrade pip' command.\u001b[0m\n"
     ]
    }
   ],
   "source": [
    "! pip3 install numpy\n",
    "! pip3 install matplotlib"
   ]
  },
  {
   "cell_type": "code",
   "execution_count": 7,
   "id": "19cfb95d-e8c0-415b-8b2c-7b677b082e70",
   "metadata": {},
   "outputs": [
    {
     "ename": "NameError",
     "evalue": "name 'np' is not defined",
     "output_type": "error",
     "traceback": [
      "\u001b[0;31m---------------------------------------------------------------------------\u001b[0m",
      "\u001b[0;31mNameError\u001b[0m                                 Traceback (most recent call last)",
      "Cell \u001b[0;32mIn [7], line 11\u001b[0m\n\u001b[1;32m      7\u001b[0m z\u001b[38;5;241m=\u001b[39m\u001b[38;5;241m0\u001b[39m\n\u001b[1;32m      9\u001b[0m synch\u001b[38;5;241m.\u001b[39msetspectrum(\u001b[38;5;241m100\u001b[39m,\u001b[38;5;241m1e6\u001b[39m,\u001b[38;5;241m2.1\u001b[39m)\n\u001b[0;32m---> 11\u001b[0m synch_freq\u001b[38;5;241m=\u001b[39m\u001b[43mnp\u001b[49m\u001b[38;5;241m.\u001b[39mlogspace(\u001b[38;5;241m3\u001b[39m,\u001b[38;5;241m11\u001b[39m,values)\n\u001b[1;32m     12\u001b[0m synch_emiss\u001b[38;5;241m=\u001b[39mnp\u001b[38;5;241m.\u001b[39mzeros(values)\n\u001b[1;32m     13\u001b[0m ic_emiss\u001b[38;5;241m=\u001b[39mnp\u001b[38;5;241m.\u001b[39mzeros(values)\n",
      "\u001b[0;31mNameError\u001b[0m: name 'np' is not defined"
     ]
    }
   ],
   "source": [
    "from builtins import range\n",
    "import synch\n",
    "\n",
    "\n",
    "values=80\n",
    "b=0.6e-9\n",
    "z=0\n",
    "\n",
    "synch.setspectrum(100,1e6,2.1)\n",
    "\n",
    "synch_freq=np.logspace(3,11,values)\n",
    "synch_emiss=np.zeros(values)\n",
    "ic_emiss=np.zeros(values)\n",
    "ic_freq=2.4e17*np.logspace(-4,4,values)\n",
    "plt.xscale('log')\n",
    "plt.yscale('log')\n",
    "plt.xlabel('Frequency (Hz)')\n",
    "plt.ylabel('Emissivity')\n",
    "\n",
    "for j in range(0,11):\n",
    "\n",
    "    age=5*j\n",
    "    synch.setage(age*1e6*365*86400,b)\n",
    "\n",
    "    for i in range(0,values):\n",
    "        #synch_emiss[i]=synch.emiss(1.0,b,synch_freq[i])\n",
    "        ic_emiss[i]=synch.cmb_ic_emiss(1.0,ic_freq[i],z)\n",
    "        # print '%g %g' % (freq[i],emiss[i])\n",
    "\n",
    "    #plt.plot(synch_freq,synch_emiss,label=('Age %g Myr' % age))\n",
    "    plt.plot(ic_freq,ic_emiss,ls='--',label='IC age %g Myr' % age)\n",
    "\n",
    "plt.xlim(3e17,3e21)\n",
    "plt.legend(loc=0)\n",
    "plt.show()"
   ]
  },
  {
   "cell_type": "code",
   "execution_count": null,
   "id": "a435f222-9685-4425-9abf-cf16284eebc4",
   "metadata": {},
   "outputs": [],
   "source": []
  }
 ],
 "metadata": {
  "kernelspec": {
   "display_name": "pysynch_v1",
   "language": "python",
   "name": "pysynch_v1"
  },
  "language_info": {
   "codemirror_mode": {
    "name": "ipython",
    "version": 3
   },
   "file_extension": ".py",
   "mimetype": "text/x-python",
   "name": "python",
   "nbconvert_exporter": "python",
   "pygments_lexer": "ipython3",
   "version": "3.8.10"
  }
 },
 "nbformat": 4,
 "nbformat_minor": 5
}
