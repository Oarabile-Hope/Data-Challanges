{
 "cells": [
  {
   "cell_type": "code",
   "execution_count": 23,
   "id": "4455b48c-a4fe-4088-80de-606a894123c3",
   "metadata": {},
   "outputs": [
    {
     "name": "stdout",
     "output_type": "stream",
     "text": [
      "Defaulting to user installation because normal site-packages is not writeable\n",
      "Collecting quantiphy==1.1.0\n",
      "  Downloading quantiphy-1.1.0.tar.gz (47 kB)\n",
      "\u001b[2K     \u001b[90m━━━━━━━━━━━━━━━━━━━━━━━━━━━━━━━━━━━━━━━━\u001b[0m \u001b[32m47.8/47.8 KB\u001b[0m \u001b[31m2.7 MB/s\u001b[0m eta \u001b[36m0:00:00\u001b[0m\n",
      "\u001b[?25h  Preparing metadata (setup.py) ... \u001b[?25ldone\n",
      "\u001b[?25hCollecting pytest-runner\n",
      "  Downloading pytest_runner-6.0.0-py3-none-any.whl (7.2 kB)\n",
      "Requirement already satisfied: six in /usr/lib/python3/dist-packages (from quantiphy==1.1.0) (1.14.0)\n",
      "Building wheels for collected packages: quantiphy\n",
      "  Building wheel for quantiphy (setup.py) ... \u001b[?25ldone\n",
      "\u001b[?25h  Created wheel for quantiphy: filename=quantiphy-1.1.0-py3-none-any.whl size=24524 sha256=b0c35702c8fe5214e9bb4cb375569f3ea0069b7fd73288da935f4ce85be2743e\n",
      "  Stored in directory: /users/hope/.cache/pip/wheels/73/ce/c6/41bc7ae7b74ecfabedebe8a7c620e3e8cd55bf24f736a77f63\n",
      "Successfully built quantiphy\n",
      "Installing collected packages: pytest-runner, quantiphy\n",
      "Successfully installed pytest-runner-6.0.0 quantiphy-1.1.0\n",
      "\u001b[33mWARNING: You are using pip version 22.0.4; however, version 22.2.2 is available.\n",
      "You should consider upgrading via the '/usr/bin/python3 -m pip install --upgrade pip' command.\u001b[0m\u001b[33m\n",
      "\u001b[0m"
     ]
    }
   ],
   "source": [
    "! pip install quantiphy==1.1.0"
   ]
  },
  {
   "cell_type": "code",
   "execution_count": 1,
   "id": "27dc6666-9030-4294-a3f4-dab407aca1fa",
   "metadata": {},
   "outputs": [],
   "source": [
    "import pandas as pd\n",
    "import matplotlib.pyplot as plt\n",
    "import numpy as np\n",
    "import re\n",
    "from quantiphy import Quantity\n",
    "plt.rcParams[\"figure.figsize\"] = [10, 6]\n",
    "# Set up with a higher resolution screen (useful on Mac)\n",
    "%config InlineBackend.figure_format = 'retina'"
   ]
  },
  {
   "cell_type": "code",
   "execution_count": 2,
   "id": "c6cb7651-4f7c-486b-be37-7df1a54be2ec",
   "metadata": {},
   "outputs": [],
   "source": [
    "# All the observations between Jan_2020_to_March_2021\n",
    "#observations = pd.read_csv('observations_Jan_2020_to_March_2021.csv')\n",
    "\n",
    "# All the non science observations\n",
    "non_science_observations = pd.read_csv('Non_science_observations_Jan_2020_to_March_2021.csv')\n",
    "\n",
    "# All the science continuum observations\n",
    "science_continuum_observations = pd.read_csv('science_continuum_observations_Jan_2020_to_March_2021.csv')"
   ]
  },
  {
   "cell_type": "code",
   "execution_count": 3,
   "id": "1e932fb8-c6a5-4bb8-8850-016b2b209817",
   "metadata": {},
   "outputs": [],
   "source": [
    "# All the observations between Jan_2020_to_March_2021\n",
    "observations = pd.read_csv('all_obs.csv')"
   ]
  },
  {
   "cell_type": "code",
   "execution_count": 4,
   "id": "04d51e7f-0123-4afb-bda2-4cc4a7dbece2",
   "metadata": {},
   "outputs": [
    {
     "name": "stdout",
     "output_type": "stream",
     "text": [
      "All observations :  2698\n",
      "Non science observations:  6848\n",
      "Science Continuum observations :  1392\n"
     ]
    }
   ],
   "source": [
    "print('All observations : ',observations.CaptureBlockId.count())\n",
    "print('Non science observations: ',non_science_observations.CaptureBlockId.count())\n",
    "print('Science Continuum observations : ',science_continuum_observations.CaptureBlockId.count())"
   ]
  },
  {
   "cell_type": "code",
   "execution_count": 5,
   "id": "a194565b-6b9d-4da1-85a1-93b589dc08f3",
   "metadata": {},
   "outputs": [],
   "source": [
    "# confirm all science continuum obseravtions is in all observations\n",
    "#sum(science_continuum_observations['CaptureBlockId'].isin(observatiions['CaptureBlockId']).astype(int))"
   ]
  },
  {
   "cell_type": "code",
   "execution_count": 6,
   "id": "3644ff80-a096-4c7c-9dc1-1bfa09e80cb7",
   "metadata": {},
   "outputs": [
    {
     "data": {
      "text/plain": [
       "Index(['KatpointTargets', 'ProposalId', 'StartTime', 'CaptureBlockId',\n",
       "       'Description', 'Duration', 'CAS.ProductTransferStatus', 'Public',\n",
       "       'NumFreqChannels', 'Targets', 'MinFreq', 'MaxFreq'],\n",
       "      dtype='object')"
      ]
     },
     "execution_count": 6,
     "metadata": {},
     "output_type": "execute_result"
    }
   ],
   "source": [
    "observations.columns # read columns"
   ]
  },
  {
   "cell_type": "code",
   "execution_count": 7,
   "id": "fc8fae22-57a3-46a8-8795-dc73eb19bf3a",
   "metadata": {},
   "outputs": [
    {
     "data": {
      "text/plain": [
       "Index(['ProposalId', 'CaptureBlockId', 'Description', 'Duration',\n",
       "       'CAS.ProductTransferStatus', 'Public', 'NumFreqChannels', 'Targets',\n",
       "       'MinFreq', 'MaxFreq', 'RMSNoise'],\n",
       "      dtype='object')"
      ]
     },
     "execution_count": 7,
     "metadata": {},
     "output_type": "execute_result"
    }
   ],
   "source": [
    "science_continuum_observations.columns # read columns"
   ]
  },
  {
   "cell_type": "code",
   "execution_count": 8,
   "id": "aa5c00cf-56f9-4f1e-adfe-59664d4428e5",
   "metadata": {},
   "outputs": [
    {
     "data": {
      "text/html": [
       "<div>\n",
       "<style scoped>\n",
       "    .dataframe tbody tr th:only-of-type {\n",
       "        vertical-align: middle;\n",
       "    }\n",
       "\n",
       "    .dataframe tbody tr th {\n",
       "        vertical-align: top;\n",
       "    }\n",
       "\n",
       "    .dataframe thead th {\n",
       "        text-align: right;\n",
       "    }\n",
       "</style>\n",
       "<table border=\"1\" class=\"dataframe\">\n",
       "  <thead>\n",
       "    <tr style=\"text-align: right;\">\n",
       "      <th></th>\n",
       "      <th>KatpointTargets</th>\n",
       "      <th>ProposalId</th>\n",
       "      <th>StartTime</th>\n",
       "      <th>CaptureBlockId</th>\n",
       "      <th>Description</th>\n",
       "      <th>Duration</th>\n",
       "      <th>CAS.ProductTransferStatus</th>\n",
       "      <th>Public</th>\n",
       "      <th>NumFreqChannels</th>\n",
       "      <th>Targets</th>\n",
       "      <th>MinFreq</th>\n",
       "      <th>MaxFreq</th>\n",
       "    </tr>\n",
       "  </thead>\n",
       "  <tbody>\n",
       "    <tr>\n",
       "      <th>0</th>\n",
       "      <td>J0408-6545 | 0408-658\\, radec fluxcal bpcal de...</td>\n",
       "      <td>SCI-20180516-EB-01</td>\n",
       "      <td>2021-03-31T18:02:53Z</td>\n",
       "      <td>1617213676</td>\n",
       "      <td>MHONGOOSE J1337-28 rising 1</td>\n",
       "      <td>20163.39</td>\n",
       "      <td>SPOOLED</td>\n",
       "      <td>NaN</td>\n",
       "      <td>32768</td>\n",
       "      <td>J0408-6545,0408-658,J1130-1449,1127-145,J1311-...</td>\n",
       "      <td>1.336500e+09</td>\n",
       "      <td>1.443500e+09</td>\n",
       "    </tr>\n",
       "    <tr>\n",
       "      <th>1</th>\n",
       "      <td>J0408-6545 | 0408-658\\, radec fluxcal bpcal de...</td>\n",
       "      <td>SCI-20180516-EB-01</td>\n",
       "      <td>2021-03-31T18:02:45Z</td>\n",
       "      <td>1617213673</td>\n",
       "      <td>MHONGOOSE J1337-28 rising 1</td>\n",
       "      <td>20167.47</td>\n",
       "      <td>SPOOLED</td>\n",
       "      <td>NaN</td>\n",
       "      <td>4096</td>\n",
       "      <td>J0408-6545,0408-658,J1130-1449,1127-145,J1311-...</td>\n",
       "      <td>8.560000e+08</td>\n",
       "      <td>1.712000e+09</td>\n",
       "    </tr>\n",
       "    <tr>\n",
       "      <th>2</th>\n",
       "      <td>J1939-6342 | 1934-638\\, radec fluxcal bpcal de...</td>\n",
       "      <td>SCI-20210212-MP-01</td>\n",
       "      <td>2021-03-31T01:35:19Z</td>\n",
       "      <td>1617154503</td>\n",
       "      <td>Probing star-planet interaction in the Proxima...</td>\n",
       "      <td>1767.25</td>\n",
       "      <td>SPOOLED</td>\n",
       "      <td>NaN</td>\n",
       "      <td>4096</td>\n",
       "      <td>J1939-6342,1934-638,J1424-4913,1421-490,Proxim...</td>\n",
       "      <td>8.560000e+08</td>\n",
       "      <td>1.712000e+09</td>\n",
       "    </tr>\n",
       "  </tbody>\n",
       "</table>\n",
       "</div>"
      ],
      "text/plain": [
       "                                     KatpointTargets          ProposalId  \\\n",
       "0  J0408-6545 | 0408-658\\, radec fluxcal bpcal de...  SCI-20180516-EB-01   \n",
       "1  J0408-6545 | 0408-658\\, radec fluxcal bpcal de...  SCI-20180516-EB-01   \n",
       "2  J1939-6342 | 1934-638\\, radec fluxcal bpcal de...  SCI-20210212-MP-01   \n",
       "\n",
       "              StartTime  CaptureBlockId  \\\n",
       "0  2021-03-31T18:02:53Z      1617213676   \n",
       "1  2021-03-31T18:02:45Z      1617213673   \n",
       "2  2021-03-31T01:35:19Z      1617154503   \n",
       "\n",
       "                                         Description  Duration  \\\n",
       "0                        MHONGOOSE J1337-28 rising 1  20163.39   \n",
       "1                        MHONGOOSE J1337-28 rising 1  20167.47   \n",
       "2  Probing star-planet interaction in the Proxima...   1767.25   \n",
       "\n",
       "  CAS.ProductTransferStatus Public  NumFreqChannels  \\\n",
       "0                   SPOOLED    NaN            32768   \n",
       "1                   SPOOLED    NaN             4096   \n",
       "2                   SPOOLED    NaN             4096   \n",
       "\n",
       "                                             Targets       MinFreq  \\\n",
       "0  J0408-6545,0408-658,J1130-1449,1127-145,J1311-...  1.336500e+09   \n",
       "1  J0408-6545,0408-658,J1130-1449,1127-145,J1311-...  8.560000e+08   \n",
       "2  J1939-6342,1934-638,J1424-4913,1421-490,Proxim...  8.560000e+08   \n",
       "\n",
       "        MaxFreq  \n",
       "0  1.443500e+09  \n",
       "1  1.712000e+09  \n",
       "2  1.712000e+09  "
      ]
     },
     "execution_count": 8,
     "metadata": {},
     "output_type": "execute_result"
    }
   ],
   "source": [
    "observations.head(3) # How the observation data looks like"
   ]
  },
  {
   "cell_type": "code",
   "execution_count": null,
   "id": "7ced7cb9-9606-40e4-b2ce-1c9697666493",
   "metadata": {},
   "outputs": [],
   "source": []
  },
  {
   "cell_type": "code",
   "execution_count": 9,
   "id": "ab678a11-2bf0-47d1-b0bb-f10b29a7d276",
   "metadata": {},
   "outputs": [
    {
     "name": "stdout",
     "output_type": "stream",
     "text": [
      "total :  2698\n"
     ]
    },
    {
     "data": {
      "image/png": "[encoded data removed]",
      "text/plain": [
       "<Figure size 720x432 with 1 Axes>"
      ]
     },
     "metadata": {
      "image/png": {
       "height": 386,
       "width": 611
      },
      "needs_background": "light"
     },
     "output_type": "display_data"
    }
   ],
   "source": [
    "# Different telescope modes\n",
    "# 32k = 32768 ; 4k = 4096; 1k = 1024\n",
    "\n",
    "mode_32k_count = observations[observations['NumFreqChannels'] == 32768]['NumFreqChannels'].count() \n",
    "mode_4k_count = observations[observations['NumFreqChannels'] == 4096]['NumFreqChannels'].count()  \n",
    "mode_1k_count = observations[observations['NumFreqChannels'] == 1024]['NumFreqChannels'].count()  \n",
    "\n",
    "mode_counts = pd.DataFrame(\n",
    "    {\"No_of_observations\": [mode_32k_count, mode_4k_count, mode_1k_count]}, \n",
    "    index=[\"32k\", \"4k\", \"1k\"])\n",
    "\n",
    "mode_counts['No_of_observations'].plot(kind=\"barh\")\n",
    "plt.title(\"Number of observations per mode\")\n",
    "plt.ylabel(\"telescope modes\")\n",
    "plt.xlabel(\"Number of observations\")\n",
    "\n",
    "# all add up\n",
    "print('total : ',mode_1k_count + mode_32k_count + mode_4k_count)"
   ]
  },
  {
   "cell_type": "code",
   "execution_count": 10,
   "id": "bde05be5-b22d-4f06-bd7b-17272aea5868",
   "metadata": {},
   "outputs": [
    {
     "data": {
      "text/plain": [
       "Text(0, 0.5, 'Number of observations')"
      ]
     },
     "execution_count": 10,
     "metadata": {},
     "output_type": "execute_result"
    },
    {
     "data": {
      "image/png": "[encoded data removed]",
      "text/plain": [
       "<Figure size 720x360 with 1 Axes>"
      ]
     },
     "metadata": {
      "image/png": {
       "height": 331,
       "width": 618
      },
      "needs_background": "light"
     },
     "output_type": "display_data"
    }
   ],
   "source": [
    "# different observation times\n",
    "Duration = observations[\"Duration\"]/3600\n",
    "plt.figure();\n",
    "\n",
    "Duration.hist(figsize=(10, 5));\n",
    "\n",
    "plt.title(\"Number of observations per duration\")\n",
    "plt.xlabel(\"Duration (H)\")\n",
    "plt.ylabel(\"Number of observations\")"
   ]
  },
  {
   "cell_type": "code",
   "execution_count": 11,
   "id": "9c0bbfba-2dcb-4746-8276-40ac09d759e0",
   "metadata": {},
   "outputs": [
    {
     "data": {
      "text/html": [
       "<div>\n",
       "<style scoped>\n",
       "    .dataframe tbody tr th:only-of-type {\n",
       "        vertical-align: middle;\n",
       "    }\n",
       "\n",
       "    .dataframe tbody tr th {\n",
       "        vertical-align: top;\n",
       "    }\n",
       "\n",
       "    .dataframe thead th {\n",
       "        text-align: right;\n",
       "    }\n",
       "</style>\n",
       "<table border=\"1\" class=\"dataframe\">\n",
       "  <thead>\n",
       "    <tr style=\"text-align: right;\">\n",
       "      <th></th>\n",
       "      <th>KatpointTargets</th>\n",
       "      <th>ProposalId</th>\n",
       "      <th>StartTime</th>\n",
       "      <th>CaptureBlockId</th>\n",
       "      <th>Description</th>\n",
       "      <th>Duration</th>\n",
       "      <th>CAS.ProductTransferStatus</th>\n",
       "      <th>Public</th>\n",
       "      <th>NumFreqChannels</th>\n",
       "      <th>Targets</th>\n",
       "      <th>MinFreq</th>\n",
       "      <th>MaxFreq</th>\n",
       "    </tr>\n",
       "  </thead>\n",
       "  <tbody>\n",
       "    <tr>\n",
       "      <th>0</th>\n",
       "      <td>J0408-6545 | 0408-658\\, radec fluxcal bpcal de...</td>\n",
       "      <td>SCI-20180516-EB-01</td>\n",
       "      <td>2021-03-31T18:02:53Z</td>\n",
       "      <td>1617213676</td>\n",
       "      <td>MHONGOOSE J1337-28 rising 1</td>\n",
       "      <td>20163.39</td>\n",
       "      <td>SPOOLED</td>\n",
       "      <td>NaN</td>\n",
       "      <td>32768</td>\n",
       "      <td>J0408-6545,0408-658,J1130-1449,1127-145,J1311-...</td>\n",
       "      <td>1.336500e+09</td>\n",
       "      <td>1.443500e+09</td>\n",
       "    </tr>\n",
       "    <tr>\n",
       "      <th>1</th>\n",
       "      <td>J0408-6545 | 0408-658\\, radec fluxcal bpcal de...</td>\n",
       "      <td>SCI-20180516-EB-01</td>\n",
       "      <td>2021-03-31T18:02:45Z</td>\n",
       "      <td>1617213673</td>\n",
       "      <td>MHONGOOSE J1337-28 rising 1</td>\n",
       "      <td>20167.47</td>\n",
       "      <td>SPOOLED</td>\n",
       "      <td>NaN</td>\n",
       "      <td>4096</td>\n",
       "      <td>J0408-6545,0408-658,J1130-1449,1127-145,J1311-...</td>\n",
       "      <td>8.560000e+08</td>\n",
       "      <td>1.712000e+09</td>\n",
       "    </tr>\n",
       "    <tr>\n",
       "      <th>2</th>\n",
       "      <td>J1939-6342 | 1934-638\\, radec fluxcal bpcal de...</td>\n",
       "      <td>SCI-20210212-MP-01</td>\n",
       "      <td>2021-03-31T01:35:19Z</td>\n",
       "      <td>1617154503</td>\n",
       "      <td>Probing star-planet interaction in the Proxima...</td>\n",
       "      <td>1767.25</td>\n",
       "      <td>SPOOLED</td>\n",
       "      <td>NaN</td>\n",
       "      <td>4096</td>\n",
       "      <td>J1939-6342,1934-638,J1424-4913,1421-490,Proxim...</td>\n",
       "      <td>8.560000e+08</td>\n",
       "      <td>1.712000e+09</td>\n",
       "    </tr>\n",
       "  </tbody>\n",
       "</table>\n",
       "</div>"
      ],
      "text/plain": [
       "                                     KatpointTargets          ProposalId  \\\n",
       "0  J0408-6545 | 0408-658\\, radec fluxcal bpcal de...  SCI-20180516-EB-01   \n",
       "1  J0408-6545 | 0408-658\\, radec fluxcal bpcal de...  SCI-20180516-EB-01   \n",
       "2  J1939-6342 | 1934-638\\, radec fluxcal bpcal de...  SCI-20210212-MP-01   \n",
       "\n",
       "              StartTime  CaptureBlockId  \\\n",
       "0  2021-03-31T18:02:53Z      1617213676   \n",
       "1  2021-03-31T18:02:45Z      1617213673   \n",
       "2  2021-03-31T01:35:19Z      1617154503   \n",
       "\n",
       "                                         Description  Duration  \\\n",
       "0                        MHONGOOSE J1337-28 rising 1  20163.39   \n",
       "1                        MHONGOOSE J1337-28 rising 1  20167.47   \n",
       "2  Probing star-planet interaction in the Proxima...   1767.25   \n",
       "\n",
       "  CAS.ProductTransferStatus Public  NumFreqChannels  \\\n",
       "0                   SPOOLED    NaN            32768   \n",
       "1                   SPOOLED    NaN             4096   \n",
       "2                   SPOOLED    NaN             4096   \n",
       "\n",
       "                                             Targets       MinFreq  \\\n",
       "0  J0408-6545,0408-658,J1130-1449,1127-145,J1311-...  1.336500e+09   \n",
       "1  J0408-6545,0408-658,J1130-1449,1127-145,J1311-...  8.560000e+08   \n",
       "2  J1939-6342,1934-638,J1424-4913,1421-490,Proxim...  8.560000e+08   \n",
       "\n",
       "        MaxFreq  \n",
       "0  1.443500e+09  \n",
       "1  1.712000e+09  \n",
       "2  1.712000e+09  "
      ]
     },
     "execution_count": 11,
     "metadata": {},
     "output_type": "execute_result"
    }
   ],
   "source": [
    "observations.head(3)"
   ]
  },
  {
   "cell_type": "code",
   "execution_count": 12,
   "id": "73b4767e-00ef-402a-84dd-0cab6a117221",
   "metadata": {},
   "outputs": [],
   "source": [
    "# Some data wranlging\n",
    "obs_w_targets_ra_dec = {}\n",
    "obs_w_targets_calibrators = {}\n",
    "r = re.compile('.*:.*:.*.')\n",
    "for ob_i in range(len(observations)): \n",
    "    info = observations['KatpointTargets'][ob_i]\n",
    "    targets = {}\n",
    "    calibrators = []\n",
    "    data = info.replace('\\\\', \"\").split(',')\n",
    "\n",
    "    for i in range(int(len(data)/4)):\n",
    "        \n",
    "        # check for targets (concatenated w calibrator w |)\n",
    "        if '|' in data[:4][0] and len(data[:4]) == 4:\n",
    "            target = data[:4][0].split('|')[0] # first entry is target and calibrator\n",
    "            calibrator = data[:4][0].split('|')[1]\n",
    "        elif len(data[:4]) == 4:\n",
    "            target = data[:4][0] # first entry is target w/o calibrator\n",
    "        \n",
    "        elif len(data[:4]) != 4: # check entries are in multiple of 4s\n",
    "            print(ddata[:4])\n",
    "            break\n",
    "        ra = data[:4][-2]\n",
    "        dec = data[:4][-1]\n",
    "        \n",
    "        if r.match(ra) is not None:\n",
    "            targets[target] = [ra, dec]\n",
    "        else: \n",
    "            break\n",
    "        calibrators.append(calibrator)\n",
    "        del data[:4]\n",
    "        \n",
    "    obs_w_targets_calibrators[int(observations['CaptureBlockId'][ob_i])] = calibrators\n",
    "    obs_w_targets_ra_dec[int(observations['CaptureBlockId'][ob_i])] = targets"
   ]
  },
  {
   "cell_type": "code",
   "execution_count": 13,
   "id": "afb6b821-9001-44a5-a026-39a988746966",
   "metadata": {},
   "outputs": [
    {
     "name": "stdout",
     "output_type": "stream",
     "text": [
      "ProposalId\n",
      "DDT-20191219-RD-01    3\n",
      "DDT-20200120-MB-01    2\n",
      "DDT-20200323-MN-01    5\n",
      "DDT-20200506-BS-01    9\n",
      "DDT-20200519-RN-01    3\n",
      "                     ..\n",
      "SSV-20201013-SA-01    1\n",
      "SSV-20201215-SS-01    1\n",
      "SSV-20210126-SA-01    2\n",
      "SSV-20210128-SA-01    5\n",
      "SSV-20210318-SS-01    1\n",
      "Length: 98, dtype: int64\n"
     ]
    }
   ],
   "source": [
    "# Number of projects observed\n",
    "\n",
    "# Roll-back to PIDs not ProjectGrroup\n",
    "\n",
    "Project_counts = observations.groupby(['ProposalId']).size()\n",
    "print(Project_counts)"
   ]
  },
  {
   "cell_type": "code",
   "execution_count": 14,
   "id": "3594d3b0-2d95-4cd1-b979-14ee1eaf6801",
   "metadata": {},
   "outputs": [],
   "source": [
    "# frequency names\n",
    "# UHF band 300 MHz to 1 GHz\n",
    "# L 1 to 2 GHz\n",
    "# S 2 to 4 GHz\n",
    "# C 4 to 8 GHz\n",
    "# X 8 to 12 GHz \n",
    "# Ku 12 to 18 GHz\n",
    "\n",
    "band_names = {}\n",
    "\n",
    "for obs_id in range(len(observations)):\n",
    "    # minimum freq\n",
    "    Min = observations['MinFreq'][obs_id]\n",
    "    Max = observations['MaxFreq'][obs_id]\n",
    "    \n",
    "    if  Min >= 300e+6 and Max <= 1e+9: band_name ='UHF-band'\n",
    "    \n",
    "    elif Min >= 300e+6 and Max <= 2e+9 : band_name = ['UHF-band','L-band']\n",
    "    \n",
    "    elif  Min >= 1e+9 and Max <= 4e+9: band_name = ['L-band','S-band']\n",
    "    \n",
    "    elif  Min >= 1e+9 and Max <= 2e+9: band_name = 'L-band'\n",
    "    \n",
    "    elif  Min > 2e+9 and Max <= 4e+9 : band_name = 'S-band'\n",
    "    \n",
    "    elif  Min >= 4e+9 and Max <= 8e+9: band_name = ['S-band','C-band']\n",
    "        \n",
    "    elif  Min > 4e+9 and Max <= 8e+9: band_name = 'C-band'\n",
    "    \n",
    "    elif  Min > 8e+9 and Max <= 12e+9 : band_name = 'X-band'\n",
    "    elif  Min >= 8e+9 and Max <= 18e+9: band_name = ['X-band','Ku-band']\n",
    "    \n",
    "    elif  Min > 12e+9 and Max <= 18e+9: band_name = 'Ku-band'\n",
    "\n",
    "    band_names[observations['CaptureBlockId'][obs_id]] = band_name"
   ]
  },
  {
   "cell_type": "code",
   "execution_count": 15,
   "id": "133ec793-6f6f-42e8-9ce4-eee1ae7e5d99",
   "metadata": {},
   "outputs": [
    {
     "data": {
      "text/plain": [
       "2698"
      ]
     },
     "execution_count": 15,
     "metadata": {},
     "output_type": "execute_result"
    }
   ],
   "source": [
    "len(band_names)"
   ]
  },
  {
   "cell_type": "code",
   "execution_count": 18,
   "id": "0bd7047f-694d-4257-af2a-35983f19c611",
   "metadata": {},
   "outputs": [],
   "source": [
    "# Add column for ra/dec\n",
    "observations['Targets_ra/dec'] = observations['CaptureBlockId'].map(obs_w_targets_ra_dec)\n",
    "observations['calibrators'] = observations['CaptureBlockId'].map(obs_w_targets_calibrators)\n",
    "observations['FreqBand'] = observations['CaptureBlockId'].map(band_names)\n",
    "\n",
    "observations.drop('KatpointTargets', inplace=True, axis=1)"
   ]
  },
  {
   "cell_type": "code",
   "execution_count": 19,
   "id": "11a8a9c7-2ac3-4e55-a817-456b1708cf0c",
   "metadata": {},
   "outputs": [
    {
     "data": {
      "text/html": [
       "<div>\n",
       "<style scoped>\n",
       "    .dataframe tbody tr th:only-of-type {\n",
       "        vertical-align: middle;\n",
       "    }\n",
       "\n",
       "    .dataframe tbody tr th {\n",
       "        vertical-align: top;\n",
       "    }\n",
       "\n",
       "    .dataframe thead th {\n",
       "        text-align: right;\n",
       "    }\n",
       "</style>\n",
       "<table border=\"1\" class=\"dataframe\">\n",
       "  <thead>\n",
       "    <tr style=\"text-align: right;\">\n",
       "      <th></th>\n",
       "      <th>ProposalId</th>\n",
       "      <th>StartTime</th>\n",
       "      <th>CaptureBlockId</th>\n",
       "      <th>Description</th>\n",
       "      <th>Duration</th>\n",
       "      <th>CAS.ProductTransferStatus</th>\n",
       "      <th>Public</th>\n",
       "      <th>NumFreqChannels</th>\n",
       "      <th>Targets</th>\n",
       "      <th>MinFreq</th>\n",
       "      <th>MaxFreq</th>\n",
       "      <th>Targets_ra/dec</th>\n",
       "      <th>calibrators</th>\n",
       "      <th>FreqBand</th>\n",
       "    </tr>\n",
       "  </thead>\n",
       "  <tbody>\n",
       "    <tr>\n",
       "      <th>0</th>\n",
       "      <td>SCI-20180516-EB-01</td>\n",
       "      <td>2021-03-31T18:02:53Z</td>\n",
       "      <td>1617213676</td>\n",
       "      <td>MHONGOOSE J1337-28 rising 1</td>\n",
       "      <td>20163.39</td>\n",
       "      <td>SPOOLED</td>\n",
       "      <td>NaN</td>\n",
       "      <td>32768</td>\n",
       "      <td>J0408-6545,0408-658,J1130-1449,1127-145,J1311-...</td>\n",
       "      <td>1.336500e+09</td>\n",
       "      <td>1.443500e+09</td>\n",
       "      <td>{'J0408-6545 ': [' 4:08:20.38', ' -65:45:09.1'...</td>\n",
       "      <td>[ 0408-658,  1127-145,  3C283,  3C283]</td>\n",
       "      <td>[UHF-band, L-band]</td>\n",
       "    </tr>\n",
       "    <tr>\n",
       "      <th>1</th>\n",
       "      <td>SCI-20180516-EB-01</td>\n",
       "      <td>2021-03-31T18:02:45Z</td>\n",
       "      <td>1617213673</td>\n",
       "      <td>MHONGOOSE J1337-28 rising 1</td>\n",
       "      <td>20167.47</td>\n",
       "      <td>SPOOLED</td>\n",
       "      <td>NaN</td>\n",
       "      <td>4096</td>\n",
       "      <td>J0408-6545,0408-658,J1130-1449,1127-145,J1311-...</td>\n",
       "      <td>8.560000e+08</td>\n",
       "      <td>1.712000e+09</td>\n",
       "      <td>{'J0408-6545 ': [' 4:08:20.38', ' -65:45:09.1'...</td>\n",
       "      <td>[ 0408-658,  1127-145,  3C283,  3C283]</td>\n",
       "      <td>[UHF-band, L-band]</td>\n",
       "    </tr>\n",
       "    <tr>\n",
       "      <th>2</th>\n",
       "      <td>SCI-20210212-MP-01</td>\n",
       "      <td>2021-03-31T01:35:19Z</td>\n",
       "      <td>1617154503</td>\n",
       "      <td>Probing star-planet interaction in the Proxima...</td>\n",
       "      <td>1767.25</td>\n",
       "      <td>SPOOLED</td>\n",
       "      <td>NaN</td>\n",
       "      <td>4096</td>\n",
       "      <td>J1939-6342,1934-638,J1424-4913,1421-490,Proxim...</td>\n",
       "      <td>8.560000e+08</td>\n",
       "      <td>1.712000e+09</td>\n",
       "      <td>{'J1939-6342 ': [' 19:39:25.03', ' -63:42:45.6...</td>\n",
       "      <td>[ 1934-638,  1421-490,  1421-490]</td>\n",
       "      <td>[UHF-band, L-band]</td>\n",
       "    </tr>\n",
       "  </tbody>\n",
       "</table>\n",
       "</div>"
      ],
      "text/plain": [
       "           ProposalId             StartTime  CaptureBlockId  \\\n",
       "0  SCI-20180516-EB-01  2021-03-31T18:02:53Z      1617213676   \n",
       "1  SCI-20180516-EB-01  2021-03-31T18:02:45Z      1617213673   \n",
       "2  SCI-20210212-MP-01  2021-03-31T01:35:19Z      1617154503   \n",
       "\n",
       "                                         Description  Duration  \\\n",
       "0                        MHONGOOSE J1337-28 rising 1  20163.39   \n",
       "1                        MHONGOOSE J1337-28 rising 1  20167.47   \n",
       "2  Probing star-planet interaction in the Proxima...   1767.25   \n",
       "\n",
       "  CAS.ProductTransferStatus Public  NumFreqChannels  \\\n",
       "0                   SPOOLED    NaN            32768   \n",
       "1                   SPOOLED    NaN             4096   \n",
       "2                   SPOOLED    NaN             4096   \n",
       "\n",
       "                                             Targets       MinFreq  \\\n",
       "0  J0408-6545,0408-658,J1130-1449,1127-145,J1311-...  1.336500e+09   \n",
       "1  J0408-6545,0408-658,J1130-1449,1127-145,J1311-...  8.560000e+08   \n",
       "2  J1939-6342,1934-638,J1424-4913,1421-490,Proxim...  8.560000e+08   \n",
       "\n",
       "        MaxFreq                                     Targets_ra/dec  \\\n",
       "0  1.443500e+09  {'J0408-6545 ': [' 4:08:20.38', ' -65:45:09.1'...   \n",
       "1  1.712000e+09  {'J0408-6545 ': [' 4:08:20.38', ' -65:45:09.1'...   \n",
       "2  1.712000e+09  {'J1939-6342 ': [' 19:39:25.03', ' -63:42:45.6...   \n",
       "\n",
       "                              calibrators            FreqBand  \n",
       "0  [ 0408-658,  1127-145,  3C283,  3C283]  [UHF-band, L-band]  \n",
       "1  [ 0408-658,  1127-145,  3C283,  3C283]  [UHF-band, L-band]  \n",
       "2       [ 1934-638,  1421-490,  1421-490]  [UHF-band, L-band]  "
      ]
     },
     "execution_count": 19,
     "metadata": {},
     "output_type": "execute_result"
    }
   ],
   "source": [
    "observations.head(3)"
   ]
  },
  {
   "cell_type": "code",
   "execution_count": 18,
   "id": "93f16e25-2540-4986-8a37-74275a952b8f",
   "metadata": {},
   "outputs": [],
   "source": [
    "#observation_types_index"
   ]
  },
  {
   "cell_type": "code",
   "execution_count": 22,
   "id": "1b0e5fff-ec3f-42be-875c-a50cc8baaeee",
   "metadata": {},
   "outputs": [],
   "source": [
    "writer = pd.ExcelWriter('observations_1_Jan_2020_31_March_2021.xlsx',engine='xlsxwriter')\n",
    "observations.to_excel(writer,sheet_name='observations')\n",
    "writer.save()"
   ]
  },
  {
   "cell_type": "code",
   "execution_count": null,
   "id": "b7f83e86-9502-4a21-86c9-754e162ce7f9",
   "metadata": {},
   "outputs": [],
   "source": []
  }
 ],
 "metadata": {
  "kernelspec": {
   "display_name": "Python 3",
   "language": "python",
   "name": "python3"
  },
  "language_info": {
   "codemirror_mode": {
    "name": "ipython",
    "version": 3
   },
   "file_extension": ".py",
   "mimetype": "text/x-python",
   "name": "python",
   "nbconvert_exporter": "python",
   "pygments_lexer": "ipython3",
   "version": "3.8.3"
  }
 },
 "nbformat": 4,
 "nbformat_minor": 5
}
